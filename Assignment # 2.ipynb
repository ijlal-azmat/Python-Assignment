{
 "cells": [
  {
   "cell_type": "code",
   "execution_count": 3,
   "metadata": {},
   "outputs": [
    {
     "name": "stdout",
     "output_type": "stream",
     "text": [
      "Enter Maths marks: 50\n",
      "Enter Englsih marks: 50\n",
      "Enter Chemistry marks: 50\n",
      "Enter Physics marks: 50\n",
      "Enter Urdu marks: 50\n",
      "Enter Islamiat marks: 0\n",
      "\n",
      "You Obtained D Grade\n"
     ]
    }
   ],
   "source": [
    "math=int(input(\"Enter Maths marks: \"))\n",
    "eng=int(input(\"Enter Englsih marks: \"))\n",
    "chem=int(input(\"Enter Chemistry marks: \"))\n",
    "phy=int(input(\"Enter Physics marks: \"))\n",
    "urdu=int(input(\"Enter Urdu marks: \"))\n",
    "isl=int(input(\"Enter Islamiat marks: \"))\n",
    "total=600\n",
    "sum=math+eng+chem+phy+urdu+isl\n",
    "per=sum/total * 100\n",
    "if per >= 80 and per<=100 :\n",
    "    print(\"\\nYou Obtained A+ Grade\")\n",
    "elif per >= 70 and per < 80 :\n",
    "    print(\"\\nYou Obtained A Grade\")\n",
    "elif per >= 60 and per < 70:\n",
    "    print(\"\\nYou Obtained B Grade\")\n",
    "elif per >= 50 and per < 60 :\n",
    "    print(\"\\nYou Obtained C Grade\")\n",
    "elif per >= 40 and per < 50 :\n",
    "    print(\"\\nYou Obtained D Grade\")\n",
    "elif per >= 33 and per < 40:\n",
    "    print(\"\\nYou Obtained E Grade\")\n",
    "else :\n",
    "    print(\"\\n You failed.\")"
   ]
  },
  {
   "cell_type": "code",
   "execution_count": 5,
   "metadata": {},
   "outputs": [
    {
     "name": "stdout",
     "output_type": "stream",
     "text": [
      "Enter A number of your choice 9\n",
      "Number is Odd\n"
     ]
    }
   ],
   "source": [
    "Number = int(input(\"Enter A number of your choice \"))\n",
    "if Number % 2 == 0:\n",
    "    print(\"Number is Even\")\n",
    "else :\n",
    "    print(\"Number is Odd\")"
   ]
  },
  {
   "cell_type": "code",
   "execution_count": 6,
   "metadata": {},
   "outputs": [
    {
     "name": "stdout",
     "output_type": "stream",
     "text": [
      "8\n"
     ]
    }
   ],
   "source": [
    "List=[0,1,2,3,4,5,\"Hello\",\"World\"]\n",
    "print(len(List))"
   ]
  },
  {
   "cell_type": "code",
   "execution_count": 1,
   "metadata": {},
   "outputs": [
    {
     "name": "stdout",
     "output_type": "stream",
     "text": [
      "115\n"
     ]
    }
   ],
   "source": [
    "List=[1,2,3,4,5,100]\n",
    "print(sum(List))"
   ]
  },
  {
   "cell_type": "code",
   "execution_count": 7,
   "metadata": {},
   "outputs": [
    {
     "name": "stdout",
     "output_type": "stream",
     "text": [
      "100\n"
     ]
    }
   ],
   "source": [
    "List=[1,2,3,4,5,100]\n",
    "print(max(List))"
   ]
  },
  {
   "cell_type": "code",
   "execution_count": 8,
   "metadata": {},
   "outputs": [
    {
     "name": "stdout",
     "output_type": "stream",
     "text": [
      "[1, 1, 2, 3, 4]\n"
     ]
    }
   ],
   "source": [
    "List= [1, 1, 2, 3, 5, 8, 13, 21, 4, 55, 89]\n",
    "List1 = []\n",
    "for less in List:\n",
    "  if less < 5:\n",
    "    List1.append(less)\n",
    "print(List1)"
   ]
  },
  {
   "cell_type": "code",
   "execution_count": null,
   "metadata": {},
   "outputs": [],
   "source": []
  }
 ],
 "metadata": {
  "kernelspec": {
   "display_name": "Python 3",
   "language": "python",
   "name": "python3"
  },
  "language_info": {
   "codemirror_mode": {
    "name": "ipython",
    "version": 3
   },
   "file_extension": ".py",
   "mimetype": "text/x-python",
   "name": "python",
   "nbconvert_exporter": "python",
   "pygments_lexer": "ipython3",
   "version": "3.7.4"
  }
 },
 "nbformat": 4,
 "nbformat_minor": 2
}
